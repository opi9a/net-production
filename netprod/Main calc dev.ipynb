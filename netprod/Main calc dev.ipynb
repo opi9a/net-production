{
 "cells": [
  {
   "cell_type": "markdown",
   "metadata": {},
   "source": [
    "# Main calculations\n",
    "\n",
    "Currently kick off by creating the `coeff_ser` pd.Series.  In due course might want to set up so this is automatically created when the library is imported (i.e. call the functions in the `__init__.py` of the module directory).  Though that would mean you had to have the target specified.  Not great.  Possibly best left as is - given that need target to be explicit.\n",
    "\n",
    "## Next up\n",
    "Just work through the component functions.\n",
    "Haven't worked out how to do higher order calcs, eg for treatment impact or populations, but figure will need these components anyway."
   ]
  },
  {
   "cell_type": "code",
   "execution_count": 1,
   "metadata": {
    "collapsed": true
   },
   "outputs": [],
   "source": [
    "import pandas as pd\n",
    "import numpy as np\n",
    "from openpyxl import load_workbook\n",
    "from read_coeffs import *"
   ]
  },
  {
   "cell_type": "code",
   "execution_count": 3,
   "metadata": {
    "collapsed": false
   },
   "outputs": [],
   "source": [
    "wb = load_workbook('data/wsi_v0.1.31.xlsx', data_only=True)\n",
    "coeff_ser = make_pdseries(get_coeffs(wb))"
   ]
  },
  {
   "cell_type": "markdown",
   "metadata": {},
   "source": [
    "Can treat this series like an object (well it is an object, so..).  Eg:"
   ]
  },
  {
   "cell_type": "code",
   "execution_count": 7,
   "metadata": {
    "collapsed": false
   },
   "outputs": [
    {
     "data": {
      "text/plain": [
       "0     1.0383\n",
       "1     5.0122\n",
       "2    32.5459\n",
       "dtype: float64"
      ]
     },
     "execution_count": 7,
     "metadata": {},
     "output_type": "execute_result"
    }
   ],
   "source": [
    "coeff_ser.Prod_MCS_coeffs"
   ]
  },
  {
   "cell_type": "code",
   "execution_count": 8,
   "metadata": {
    "collapsed": false
   },
   "outputs": [],
   "source": [
    "def productivity(age, qol, debug=False):\n",
    "    '''returns productivity, as % of time worked, for given age and QoL'''\n",
    "    MCS = (coeff_ser.Prod_MCS_coeffs[0] * (age/10)) \\\n",
    "          + (coeff_ser.Prod_MCS_coeffs[1] * qol) \\\n",
    "            + coeff_ser.Prod_MCS_coeffs[2]\n",
    "\n",
    "    PCS = (coeff_ser.Prod_PCS_coeffs[0] * (age/10)) \\\n",
    "          + (coeff_ser.Prod_PCS_coeffs[1] * qol) \\\n",
    "            + coeff_ser.Prod_PCS_coeffs[2]\n",
    "    \n",
    "    prod_sum = ((coeff_ser.Prod_prod_coeffs[0] * (age/10)) \n",
    "                + (coeff_ser.Prod_prod_coeffs[1] * ((age/10)**2)) \n",
    "                + (coeff_ser.Prod_prod_coeffs[2] * (MCS/10)) \n",
    "                + (coeff_ser.Prod_prod_coeffs[3] * ((MCS/10)**2)) \n",
    "                + (coeff_ser.Prod_prod_coeffs[4] * (PCS/10)) \n",
    "                + (coeff_ser.Prod_prod_coeffs[5] * ((PCS/10)**2)) \n",
    "                + coeff_ser.Prod_prod_coeffs[6])\n",
    "    \n",
    "    productivity = np.exp(prod_sum)/(1+np.exp(prod_sum))\n",
    "    \n",
    "    return productivity"
   ]
  },
  {
   "cell_type": "code",
   "execution_count": 42,
   "metadata": {
    "collapsed": false
   },
   "outputs": [],
   "source": [
    "def paid_prod(age=35, gen='F', qol=0.9, debug=False):\n",
    "    '''X this new docstring here'''\n",
    "#     print('productivity is ', productivity(age, qol, debug))\n",
    "    if gen=='F':\n",
    "        wage = coeff_ser.Prod_wagepcm_F_byage[age]    \n",
    "    else:\n",
    "        wage = coeff_ser.Prod_wagepcm_M_byage[age]\n",
    "    on_costs = coeff_ser.on_costs\n",
    "#     print(\"wage is \", wage)\n",
    "#     print(\"on costs are \", on_costs)\n",
    "    prod = productivity(age, qol, debug=False) \n",
    "#     print(\"productivity is \", prod)\n",
    "    return prod * wage * (1 + on_costs)"
   ]
  },
  {
   "cell_type": "code",
   "execution_count": 43,
   "metadata": {
    "collapsed": false
   },
   "outputs": [
    {
     "name": "stdout",
     "output_type": "stream",
     "text": [
      "100 loops, best of 3: 4.04 ms per loop\n"
     ]
    }
   ],
   "source": [
    "timeit paid_prod(88, 'M', 0.5)"
   ]
  },
  {
   "cell_type": "code",
   "execution_count": 43,
   "metadata": {
    "collapsed": false
   },
   "outputs": [
    {
     "data": {
      "text/plain": [
       "0    1135.462241\n",
       "dtype: float64"
      ]
     },
     "execution_count": 43,
     "metadata": {},
     "output_type": "execute_result"
    }
   ],
   "source": [
    "coeff_ser.on_costs"
   ]
  }
 ],
 "metadata": {
  "kernelspec": {
   "display_name": "Python 3",
   "language": "python",
   "name": "python3"
  },
  "language_info": {
   "codemirror_mode": {
    "name": "ipython",
    "version": 3
   },
   "file_extension": ".py",
   "mimetype": "text/x-python",
   "name": "python",
   "nbconvert_exporter": "python",
   "pygments_lexer": "ipython3",
   "version": "3.6.0"
  }
 },
 "nbformat": 4,
 "nbformat_minor": 2
}
