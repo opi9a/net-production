{
 "cells": [
  {
   "cell_type": "markdown",
   "metadata": {},
   "source": [
    "# Main calculations\n",
    "\n",
    "Currently kick off by creating the `coeff_ser` pd.Series.  In due course might want to set up so this is automatically created when the library is imported (i.e. call the functions in the `__init__.py` of the module directory).  Though that would mean you had to have the target specified.  Not great.  Possibly best left as is - given that need target to be explicit. Perhaps I should pass views of `coeff_ser` to the functions?\n",
    "\n",
    "\n",
    "## Next up\n",
    "Just work through the component functions.\n",
    "Haven't worked out how to do higher order calcs, eg for treatment impact or populations, but figure will need these components anyway.  May do patient objects?\n",
    "\n",
    "Write some unit tests.\n",
    "\n",
    "Probably a good idea to `pickle` or `shelve` the `coeff_ser` object.  (And rename it!)\n",
    "\n",
    "\n",
    "## Notes\n",
    "Only imports `FormCare_spICD_mults`, not the ICD identifiers, so need to do the lookups in the calculation based on knowing which ICD corresponded to which index.  This is basically what I do for other stuff anyway.  Had to do it this way to keep the `pd.Series` as a float.\n"
   ]
  },
  {
   "cell_type": "code",
   "execution_count": 1,
   "metadata": {
    "collapsed": true
   },
   "outputs": [],
   "source": [
    "import pandas as pd\n",
    "import numpy as np\n",
    "from openpyxl import load_workbook\n",
    "from read_coeffs import *"
   ]
  },
  {
   "cell_type": "code",
   "execution_count": 45,
   "metadata": {
    "collapsed": false
   },
   "outputs": [],
   "source": [
    "wb = load_workbook('data/wsi_v0.1.31.xlsx', data_only=True)\n",
    "coeff_ser = make_pdseries(get_coeffs(wb))"
   ]
  },
  {
   "cell_type": "markdown",
   "metadata": {},
   "source": [
    "Check the index"
   ]
  },
  {
   "cell_type": "code",
   "execution_count": 78,
   "metadata": {
    "collapsed": false
   },
   "outputs": [
    {
     "name": "stdout",
     "output_type": "stream",
     "text": [
      "Entry                     Length\n",
      "\n",
      "ChCareCons_costpcm             1\n",
      "FormCare_agecutoff             1\n",
      "FormCare_coeff                 1\n",
      "FormCare_const                 1\n",
      "FormCare_costpcm               1\n",
      "FormCare_spICD_mults           6\n",
      "GovCons_Ed                     1\n",
      "GovCons_EdAdj_byage          100\n",
      "GovCons_Health                 1\n",
      "GovCons_HealthAdj_byage      100\n",
      "GovCons_exclHealthEd           1\n",
      "InfCare_betacoeffs            25\n",
      "InfCare_gammacoeffs            4\n",
      "InfCare_maxhpd                 1\n",
      "InfCare_minhpd                 1\n",
      "PrivCons_byage               100\n",
      "Prod_MCS_coeffs                3\n",
      "Prod_PCS_coeffs                3\n",
      "Prod_prod_coeffs               7\n",
      "Prod_rate_in_FH_byage        100\n",
      "Prod_wagepcm_F_byage         100\n",
      "Prod_wagepcm_M_byage         100\n",
      "UChCare_hpcm_F_byage         100\n",
      "UChCare_hpcm_M_byage         100\n",
      "UProd_agecutoff                1\n",
      "UProd_coeff_F                  1\n",
      "UProd_coeff_M                  1\n",
      "UProd_const_F                  1\n",
      "UProd_const_M                  1\n",
      "USickCare_hpcm_F_byage       100\n",
      "USickCare_hpcm_M_byage       100\n",
      "UnpCons_hpcm                   1\n",
      "Value_per_hour_of_time         1\n",
      "on_costs                       1\n",
      "\n",
      "Total                       1066\n"
     ]
    },
    {
     "data": {
      "text/plain": [
       "dtype('float64')"
      ]
     },
     "execution_count": 78,
     "metadata": {},
     "output_type": "execute_result"
    }
   ],
   "source": [
    "ind = coeff_ser.index.levels[0]\n",
    "print(\"{:<25}\".format(\"Entry\"), \"Length\")\n",
    "print(\"\")\n",
    "for entry in ind:\n",
    "    print(entry.ljust(27), str(len(coeff_ser[entry])).rjust(4))\n",
    "print(\"\\n{:<27}\".format(\"Total\"), len(coeff_ser))    \n",
    "coeff_ser.dtype"
   ]
  },
  {
   "cell_type": "code",
   "execution_count": 58,
   "metadata": {
    "collapsed": false
   },
   "outputs": [
    {
     "data": {
      "text/plain": [
       "1066"
      ]
     },
     "execution_count": 58,
     "metadata": {},
     "output_type": "execute_result"
    }
   ],
   "source": [
    "len(coeff_ser)"
   ]
  },
  {
   "cell_type": "markdown",
   "metadata": {},
   "source": [
    "Can treat this series like an object (well it is an object, so..).  Eg:"
   ]
  },
  {
   "cell_type": "code",
   "execution_count": 54,
   "metadata": {
    "collapsed": false
   },
   "outputs": [
    {
     "data": {
      "text/plain": [
       "0     1.0383\n",
       "1     5.0122\n",
       "2    32.5459\n",
       "dtype: float64"
      ]
     },
     "execution_count": 54,
     "metadata": {},
     "output_type": "execute_result"
    }
   ],
   "source": [
    "coeff_ser.Prod_MCS_coeffs"
   ]
  },
  {
   "cell_type": "markdown",
   "metadata": {},
   "source": [
    "## Now the actual functions\n",
    "Currently in middle of `unpaid_prod`."
   ]
  },
  {
   "cell_type": "code",
   "execution_count": 82,
   "metadata": {
    "collapsed": false
   },
   "outputs": [],
   "source": [
    "def production(age, gen, qol):\n",
    "    return paid_prod(age, gen, qol) + unpaid_prod(age, gen, qol)"
   ]
  },
  {
   "cell_type": "code",
   "execution_count": 56,
   "metadata": {
    "collapsed": false
   },
   "outputs": [],
   "source": [
    "def paid_prod(age=35, gen='F', qol=0.9, debug=False):\n",
    "    '''X this new docstring here'''\n",
    "    if gen=='F':\n",
    "        wage = coeff_ser.Prod_wagepcm_F_byage[age]    \n",
    "    else:\n",
    "        wage = coeff_ser.Prod_wagepcm_M_byage[age]\n",
    "    on_costs = coeff_ser.on_costs\n",
    "    prod = productivity(age, qol, debug=False) \n",
    "    return prod * wage * (1 + on_costs)"
   ]
  },
  {
   "cell_type": "code",
   "execution_count": 55,
   "metadata": {
    "collapsed": false
   },
   "outputs": [],
   "source": [
    "def productivity(age, qol, debug=False):\n",
    "    '''returns productivity, as % of time worked, for given age and QoL'''\n",
    "    MCS = (coeff_ser.Prod_MCS_coeffs[0] * (age/10)) \\\n",
    "          + (coeff_ser.Prod_MCS_coeffs[1] * qol) \\\n",
    "            + coeff_ser.Prod_MCS_coeffs[2]\n",
    "\n",
    "    PCS = (coeff_ser.Prod_PCS_coeffs[0] * (age/10)) \\\n",
    "           + (coeff_ser.Prod_PCS_coeffs[1] * qol) \\\n",
    "            + coeff_ser.Prod_PCS_coeffs[2]\n",
    "    \n",
    "    prod_sum = ((coeff_ser.Prod_prod_coeffs[0] * (age/10)) \n",
    "                + (coeff_ser.Prod_prod_coeffs[1] * ((age/10)**2)) \n",
    "                + (coeff_ser.Prod_prod_coeffs[2] * (MCS/10)) \n",
    "                + (coeff_ser.Prod_prod_coeffs[3] * ((MCS/10)**2)) \n",
    "                + (coeff_ser.Prod_prod_coeffs[4] * (PCS/10)) \n",
    "                + (coeff_ser.Prod_prod_coeffs[5] * ((PCS/10)**2)) \n",
    "                + coeff_ser.Prod_prod_coeffs[6])\n",
    "    \n",
    "    productivity = np.exp(prod_sum)/(1+np.exp(prod_sum))\n",
    "    \n",
    "    return productivity"
   ]
  },
  {
   "cell_type": "code",
   "execution_count": 70,
   "metadata": {
    "collapsed": true
   },
   "outputs": [],
   "source": [
    "def unpaid_prod(age, gen, qol):\n",
    "    unpaid_prod_hpcm = gen_unpaid_prod_hpcm() + \\\n",
    "                       unpaid_sick_care_hpcm() + \\\n",
    "                       unpaid_childcare_hpcm()\n",
    "    sick_rate = productivity(age, qol) / coeff_ser.Prod_rate_in_FH_byage[age]\n",
    "    unpaid_prod = unpaid_prod_hpcm * coeff_ser.Value_per_hour_of_time * sick_rate\n",
    "    return unpaid_prod"
   ]
  },
  {
   "cell_type": "code",
   "execution_count": 69,
   "metadata": {
    "collapsed": true
   },
   "outputs": [],
   "source": [
    "def gen_unpaid_prod_hpcm():\n",
    "    return 1"
   ]
  },
  {
   "cell_type": "code",
   "execution_count": 68,
   "metadata": {
    "collapsed": true
   },
   "outputs": [],
   "source": [
    "def unpaid_sick_care_hpcm():\n",
    "    return 1"
   ]
  },
  {
   "cell_type": "code",
   "execution_count": 67,
   "metadata": {
    "collapsed": false
   },
   "outputs": [],
   "source": [
    "def unpaid_childcare_hpcm():\n",
    "    return 1"
   ]
  },
  {
   "cell_type": "code",
   "execution_count": 84,
   "metadata": {
    "collapsed": false
   },
   "outputs": [
    {
     "name": "stdout",
     "output_type": "stream",
     "text": [
      "100 loops, best of 3: 8.17 ms per loop\n"
     ]
    }
   ],
   "source": [
    "timeit production(33,'M',0.9)"
   ]
  },
  {
   "cell_type": "code",
   "execution_count": 75,
   "metadata": {
    "collapsed": false
   },
   "outputs": [
    {
     "data": {
      "text/plain": [
       "0    8.698674\n",
       "dtype: float64"
      ]
     },
     "execution_count": 75,
     "metadata": {},
     "output_type": "execute_result"
    }
   ],
   "source": [
    "productivity(33, 0.9)\n",
    "coeff_ser.Prod_rate_in_FH_byage[33]\n",
    "coeff_ser.Value_per_hour_of_time"
   ]
  },
  {
   "cell_type": "code",
   "execution_count": 80,
   "metadata": {
    "collapsed": false
   },
   "outputs": [
    {
     "name": "stdout",
     "output_type": "stream",
     "text": [
      "The slowest run took 5.51 times longer than the fastest. This could mean that an intermediate result is being cached.\n",
      "100 loops, best of 3: 4 ms per loop\n"
     ]
    }
   ],
   "source": [
    "timeit unpaid_prod(88, 'M', 0.5)"
   ]
  },
  {
   "cell_type": "code",
   "execution_count": null,
   "metadata": {
    "collapsed": true
   },
   "outputs": [],
   "source": []
  }
 ],
 "metadata": {
  "kernelspec": {
   "display_name": "Python 3",
   "language": "python",
   "name": "python3"
  },
  "language_info": {
   "codemirror_mode": {
    "name": "ipython",
    "version": 3
   },
   "file_extension": ".py",
   "mimetype": "text/x-python",
   "name": "python",
   "nbconvert_exporter": "python",
   "pygments_lexer": "ipython3",
   "version": "3.6.0"
  }
 },
 "nbformat": 4,
 "nbformat_minor": 2
}
