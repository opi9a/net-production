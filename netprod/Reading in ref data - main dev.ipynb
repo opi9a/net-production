{
 "cells": [
  {
   "cell_type": "markdown",
   "metadata": {},
   "source": [
    "# Developing function to read ref data\n",
    "\n",
    "Currently this uses openpyxl to read off reference data from the main WSB xls.\n",
    "\n",
    "All ref data need to be identified as named ranges in the xls (only productivity done so far).  Then pass the workbook and list of names to `get_named_ranges()`, which returns a list of pandas series.\n",
    "\n",
    "Each range has to be scalar (i.e. a 1d array of numbers).  This means separate arrays for M F.\n",
    "\n",
    "Currently returns a dictionary, with each range as a list.  Also have a funciton to turn this into a pd.Series, with a hierarchical index.  Good!\n",
    "\n",
    "General idea is to use this single pd.Series as the source object for calculations.  Though actually a dictionary might not be too bad - is very intuitive.  \n",
    "\n",
    "NB in long run has to be better to estimate models, and really just use coefficients - rather than lookup tables\n",
    "\n",
    "## Next up\n",
    "\n",
    "Def finished really.  These functions implemented in `read_coeffs.py` which is probably the reference now.  Need to ensure any changes are pushed over to that or whatever.\n"
   ]
  },
  {
   "cell_type": "code",
   "execution_count": 1,
   "metadata": {
    "collapsed": true
   },
   "outputs": [],
   "source": [
    "from openpyxl import load_workbook\n",
    "import pandas as pd"
   ]
  },
  {
   "cell_type": "code",
   "execution_count": 53,
   "metadata": {
    "collapsed": true
   },
   "outputs": [],
   "source": [
    "def get_coeffs(wb):\n",
    "    '''Returns a dictionary with data from named ranges specified by names_list\n",
    "    from the xls passed as wb'''\n",
    "\n",
    "    # First get the names from the target sheet. \n",
    "    # wb.defined_names is an object that has this info.\n",
    "    # Probably a better way than this to extract names but hey\n",
    "    names_list = [x.split(\",\")[0][1:].split(\"'\")[0] \n",
    "                    for x in str(wb.defined_names).split('name=')\n",
    "                    if \"xlnm\" not in x][1:]\n",
    "\n",
    "    # Now load up the data - all named ranges    \n",
    "    raw_dict = {}\n",
    "    for name in names_list:\n",
    "        raw_dict[name] = list(wb.defined_names[name].destinations)[0]\n",
    "\n",
    "    # Now put them in a dictionary\n",
    "    coeffs = {}\n",
    "    for coeff in raw_dict: #must be more elegant way to iterate thru this dictionary\n",
    "        sheet, rng = raw_dict[coeff]\n",
    "        ws = wb[sheet]\n",
    "        vals = []\n",
    "\n",
    "        # iterate through the range if it's more than one value, otherwise just take the single value\n",
    "        if type(ws[rng]) is tuple:\n",
    "            for cell in ws[rng]:\n",
    "                vals.append(cell[0].value)\n",
    "        else:\n",
    "            vals.append(ws[rng].value)\n",
    "        \n",
    "        coeffs[coeff] = vals\n",
    "    \n",
    "    return coeffs"
   ]
  },
  {
   "cell_type": "code",
   "execution_count": 54,
   "metadata": {
    "collapsed": false
   },
   "outputs": [],
   "source": [
    "def make_pdseries(in_dict):\n",
    "    '''Turns a dictionary into a pandas Series'''\n",
    "    ser = pd.Series()\n",
    "    # populate by appending to the empty series.  Note index of tuples\n",
    "    for key in in_dict:\n",
    "        for i,datum in enumerate(in_dict[key]):\n",
    "            ser = ser.append(pd.Series({(key,i):datum}))\n",
    "    # now just turn the index into a proper multi-index\n",
    "    ser.index = pd.MultiIndex.from_tuples(ser.index)\n",
    "    return ser"
   ]
  },
  {
   "cell_type": "code",
   "execution_count": 56,
   "metadata": {
    "collapsed": false
   },
   "outputs": [
    {
     "data": {
      "text/plain": [
       "on_costs              0        0.300000\n",
       "Prod_MCS_coeffs       0        1.038300\n",
       "                      1        5.012200\n",
       "                      2       32.545900\n",
       "Prod_PCS_coeffs       0       -1.044300\n",
       "                      1       25.918000\n",
       "                      2       31.023100\n",
       "Prod_prod_coeffs      0        2.950000\n",
       "                      1       -0.350000\n",
       "                      2        1.190000\n",
       "                      3       -0.090000\n",
       "                      4        1.370000\n",
       "                      5       -0.090000\n",
       "                      6      -13.200000\n",
       "Prod_wagepcm_F_byage  0      318.880643\n",
       "                      1      318.880643\n",
       "                      2      318.880643\n",
       "                      3      318.880643\n",
       "                      4      318.880643\n",
       "                      5      318.880643\n",
       "                      6      318.880643\n",
       "                      7      318.880643\n",
       "                      8      318.880643\n",
       "                      9      318.880643\n",
       "                      10     318.880643\n",
       "                      11     318.880643\n",
       "                      12     318.880643\n",
       "                      13     318.880643\n",
       "                      14     318.880643\n",
       "                      15     318.880643\n",
       "                               ...     \n",
       "Prod_wagepcm_M_byage  70    2410.041250\n",
       "                      71    2410.041250\n",
       "                      72    2410.041250\n",
       "                      73    2410.041250\n",
       "                      74    2410.041250\n",
       "                      75    2410.041250\n",
       "                      76    2410.041250\n",
       "                      77    2410.041250\n",
       "                      78    2410.041250\n",
       "                      79    2410.041250\n",
       "                      80    2410.041250\n",
       "                      81    2410.041250\n",
       "                      82    2410.041250\n",
       "                      83    2410.041250\n",
       "                      84    2410.041250\n",
       "                      85    2410.041250\n",
       "                      86    2410.041250\n",
       "                      87    2410.041250\n",
       "                      88    2410.041250\n",
       "                      89    2410.041250\n",
       "                      90    2410.041250\n",
       "                      91    2410.041250\n",
       "                      92    2410.041250\n",
       "                      93    2410.041250\n",
       "                      94    2410.041250\n",
       "                      95    2410.041250\n",
       "                      96    2410.041250\n",
       "                      97    2410.041250\n",
       "                      98    2410.041250\n",
       "                      99    2410.041250\n",
       "dtype: float64"
      ]
     },
     "execution_count": 56,
     "metadata": {},
     "output_type": "execute_result"
    }
   ],
   "source": [
    "# USAGE\n",
    "# First load in the workbook (data only, i.e. not formulas)\n",
    "wb = load_workbook('data/wsi_v0.1.31.xlsx', data_only=True)\n",
    "\n",
    "# Run it\n",
    "make_pdseries(get_coeffs(wb))"
   ]
  }
 ],
 "metadata": {
  "kernelspec": {
   "display_name": "Python 3",
   "language": "python",
   "name": "python3"
  },
  "language_info": {
   "codemirror_mode": {
    "name": "ipython",
    "version": 3
   },
   "file_extension": ".py",
   "mimetype": "text/x-python",
   "name": "python",
   "nbconvert_exporter": "python",
   "pygments_lexer": "ipython3",
   "version": "3.6.0"
  }
 },
 "nbformat": 4,
 "nbformat_minor": 2
}
