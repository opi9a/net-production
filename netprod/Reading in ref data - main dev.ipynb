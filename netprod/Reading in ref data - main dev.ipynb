{
 "cells": [
  {
   "cell_type": "code",
   "execution_count": 1,
   "metadata": {
    "collapsed": true
   },
   "outputs": [],
   "source": [
    "from openpyxl import load_workbook\n",
    "from openpyxl.workbook import defined_name\n",
    "import pandas as pd\n",
    "\n",
    "def get_named_ranges(target, names):\n",
    "    '''Returns a dictionary with the locations of the named ranges 'names'\n",
    "    in the target xls'''\n",
    "    \n",
    "    wb = load_workbook(target)\n",
    "    out_dict = {}\n",
    "    for name in names:\n",
    "        out_dict[name] = list(wb.defined_names[name].destinations)[0]\n",
    "    return out_dict"
   ]
  },
  {
   "cell_type": "code",
   "execution_count": 11,
   "metadata": {
    "collapsed": false
   },
   "outputs": [
    {
     "data": {
      "text/plain": [
       "{'Prod_MCS_coeffs': ('Paid production', '$C$17:$D$19'),\n",
       " 'Prod_PCS_coeffs': ('Paid production', '$G$17:$H$19'),\n",
       " 'Prod_prod_coeffs': ('Paid production', '$C$28:$D$34')}"
      ]
     },
     "execution_count": 11,
     "metadata": {},
     "output_type": "execute_result"
    }
   ],
   "source": [
    "ranges =['Prod_MCS_coeffs', 'Prod_PCS_coeffs', 'Prod_prod_coeffs']\n",
    "target = 'data/wsi_v0.1.31.xlsx'\n",
    "wb = load_workbook(target)\n",
    "x = get_named_ranges(target, ranges)\n",
    "x"
   ]
  },
  {
   "cell_type": "code",
   "execution_count": 12,
   "metadata": {
    "collapsed": false
   },
   "outputs": [
    {
     "name": "stdout",
     "output_type": "stream",
     "text": [
      "\n",
      " Prod_MCS_coeffs\n",
      "Age/10       1.0383\n",
      "Constant    32.5459\n",
      "EQ5D         5.0122\n",
      "Name: Prod_MCS_coeffs, dtype: float64\n",
      "\n",
      " Prod_PCS_coeffs\n",
      "Age/10      -1.0443\n",
      "Constant    31.0231\n",
      "EQ5D        25.9180\n",
      "Name: Prod_PCS_coeffs, dtype: float64\n",
      "\n",
      " Prod_prod_coeffs\n",
      "(Age/10)-sq    -0.35\n",
      "Age/10          2.95\n",
      "Constant      -13.20\n",
      "MCS/10          1.19\n",
      "MCS/10-sq      -0.09\n",
      "PCS             1.37\n",
      "PCS/10-sq      -0.09\n",
      "Name: Prod_prod_coeffs, dtype: float64\n"
     ]
    }
   ],
   "source": [
    "dfouts = []\n",
    "for r in x:\n",
    "    sheetname = x[r][0]\n",
    "    range = x[r][1]\n",
    "    ws = wb[sheetname]\n",
    "    tempdict = {}\n",
    "    for row in ws[range]:\n",
    "        tempdict[row[0].value] = row[1].value\n",
    "    df = pd.Series(data=tempdict, name=r)\n",
    "    dfouts.append(df)\n",
    "\n",
    "for df in dfouts:\n",
    "    print(\"\\n\",df.name)\n",
    "    print(df)"
   ]
  }
 ],
 "metadata": {
  "kernelspec": {
   "display_name": "Python 3",
   "language": "python",
   "name": "python3"
  },
  "language_info": {
   "codemirror_mode": {
    "name": "ipython",
    "version": 3
   },
   "file_extension": ".py",
   "mimetype": "text/x-python",
   "name": "python",
   "nbconvert_exporter": "python",
   "pygments_lexer": "ipython3",
   "version": "3.6.0"
  }
 },
 "nbformat": 4,
 "nbformat_minor": 2
}
