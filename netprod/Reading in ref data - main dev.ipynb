{
 "cells": [
  {
   "cell_type": "markdown",
   "metadata": {},
   "source": [
    "# Developing function to read ref data\n",
    "\n",
    "Currently this uses openpyxl to read off reference data from the main WSB xls.\n",
    "\n",
    "All ref data need to be identified as named ranges in the xls (only productivity done so far).  Then pass the workbook and list of names to `get_named_ranges()`, which returns a list of pandas series.\n",
    "\n",
    "Each range has to be scalar (i.e. a 1d array of numbers).  This means separate arrays for M F.\n",
    "\n",
    "Currently returns a dictionary, with each range as a list.  Also have a funciton to turn this into a pd.Series, with a hierarchical index.  Good!\n",
    "\n",
    "General idea is to use this single pd.Series as the source object for calculations.  Though actually a dictionary might not be too bad - is very intuitive.  \n",
    "\n",
    "NB in long run has to be better to estimate models, and really just use coefficients - rather than lookup tables\n",
    "\n",
    "These functions implemented in `read_coeffs.py`\n"
   ]
  },
  {
   "cell_type": "code",
   "execution_count": 1,
   "metadata": {
    "collapsed": true
   },
   "outputs": [],
   "source": [
    "from openpyxl import load_workbook\n",
    "import pandas as pd"
   ]
  },
  {
   "cell_type": "code",
   "execution_count": 172,
   "metadata": {
    "collapsed": false
   },
   "outputs": [],
   "source": [
    "def get_coeffs(wb, names_list):\n",
    "    '''Returns a dictionary with data from named ranges specified by names_list\n",
    "    from the xls passed as wb'''\n",
    "\n",
    "    # First load up the data - all named ranges    \n",
    "    raw_dict = {}\n",
    "    for name in names_list:\n",
    "        raw_dict[name] = list(wb.defined_names[name].destinations)[0]\n",
    "\n",
    "    # Now put them in a dictionary\n",
    "    coeffs = {}\n",
    "    for coeff in raw_dict: #must be more elegant way to iterate thru this dictionary\n",
    "        sheet, rng = raw_dict[coeff]\n",
    "        ws = wb[sheet]\n",
    "        vals = []\n",
    "\n",
    "        # iterate through the range if it's more than one value, otherwise just take the single value\n",
    "        if type(ws[rng]) is tuple:\n",
    "            for cell in ws[rng]:\n",
    "                vals.append(cell[0].value)\n",
    "        else:\n",
    "            vals.append(cell[0].value)\n",
    "        \n",
    "        coeffs[coeff] = vals\n",
    "    \n",
    "    return coeffs\n"
   ]
  },
  {
   "cell_type": "code",
   "execution_count": 173,
   "metadata": {
    "collapsed": true
   },
   "outputs": [],
   "source": [
    "def make_pdseries(in_dict):\n",
    "    '''Turns a dictionary into a pandas Series'''\n",
    "    ser = pd.Series()\n",
    "    # populate by appending to the empty series.  Note index of tuples\n",
    "    for key in in_dict:\n",
    "        for i,datum in enumerate(in_dict[key]):\n",
    "            ser = ser.append(pd.Series({(key,i):datum}))\n",
    "    # now just turn the index into a proper multi-index\n",
    "    ser.index = pd.MultiIndex.from_tuples(ser.index)\n",
    "    return ser"
   ]
  },
  {
   "cell_type": "code",
   "execution_count": 174,
   "metadata": {
    "collapsed": false
   },
   "outputs": [
    {
     "data": {
      "text/plain": [
       "Prod_MCS_coeffs       0        1.038300\n",
       "                      1        5.012200\n",
       "                      2       32.545900\n",
       "Prod_PCS_coeffs       0       -1.044300\n",
       "                      1       25.918000\n",
       "                      2       31.023100\n",
       "Prod_prod_coeffs      0        2.950000\n",
       "                      1       -0.350000\n",
       "                      2        1.190000\n",
       "                      3       -0.090000\n",
       "                      4        1.370000\n",
       "                      5       -0.090000\n",
       "                      6      -13.200000\n",
       "Prod_wagepcm_M_byage  0      462.889152\n",
       "                      1      462.889152\n",
       "                      2      462.889152\n",
       "                      3      462.889152\n",
       "                      4      462.889152\n",
       "                      5      462.889152\n",
       "                      6      462.889152\n",
       "                      7      462.889152\n",
       "                      8      462.889152\n",
       "                      9      462.889152\n",
       "                      10     462.889152\n",
       "                      11     462.889152\n",
       "                      12     462.889152\n",
       "                      13     462.889152\n",
       "                      14     462.889152\n",
       "                      15     462.889152\n",
       "                      16     462.889152\n",
       "                               ...     \n",
       "Prod_wagepcm_F_byage  71    1135.462241\n",
       "                      72    1135.462241\n",
       "                      73    1135.462241\n",
       "                      74    1135.462241\n",
       "                      75    1135.462241\n",
       "                      76    1135.462241\n",
       "                      77    1135.462241\n",
       "                      78    1135.462241\n",
       "                      79    1135.462241\n",
       "                      80    1135.462241\n",
       "                      81    1135.462241\n",
       "                      82    1135.462241\n",
       "                      83    1135.462241\n",
       "                      84    1135.462241\n",
       "                      85    1135.462241\n",
       "                      86    1135.462241\n",
       "                      87    1135.462241\n",
       "                      88    1135.462241\n",
       "                      89    1135.462241\n",
       "                      90    1135.462241\n",
       "                      91    1135.462241\n",
       "                      92    1135.462241\n",
       "                      93    1135.462241\n",
       "                      94    1135.462241\n",
       "                      95    1135.462241\n",
       "                      96    1135.462241\n",
       "                      97    1135.462241\n",
       "                      98    1135.462241\n",
       "                      99    1135.462241\n",
       "on_costs              0     1135.462241\n",
       "dtype: float64"
      ]
     },
     "execution_count": 174,
     "metadata": {},
     "output_type": "execute_result"
    }
   ],
   "source": [
    "# USAGE\n",
    "# First load in the workbook (data only, i.e. not formulas)\n",
    "wb = load_workbook('data/wsi_v0.1.31.xlsx', data_only=True)\n",
    "\n",
    "# Make the list of coefficient sets - must be the same as in the xls\n",
    "names_list = ['Prod_MCS_coeffs',\n",
    "              'Prod_PCS_coeffs',\n",
    "              'Prod_prod_coeffs',\n",
    "              'Prod_wagepcm_M_byage',\n",
    "              'Prod_wagepcm_F_byage',\n",
    "              'on_costs']\n",
    "\n",
    "# Finally run it\n",
    "make_pdseries(get_coeffs(wb, names_list))"
   ]
  }
 ],
 "metadata": {
  "kernelspec": {
   "display_name": "Python 3",
   "language": "python",
   "name": "python3"
  },
  "language_info": {
   "codemirror_mode": {
    "name": "ipython",
    "version": 3
   },
   "file_extension": ".py",
   "mimetype": "text/x-python",
   "name": "python",
   "nbconvert_exporter": "python",
   "pygments_lexer": "ipython3",
   "version": "3.6.0"
  }
 },
 "nbformat": 4,
 "nbformat_minor": 2
}
