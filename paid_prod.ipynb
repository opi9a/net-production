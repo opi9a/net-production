{
 "cells": [
  {
   "cell_type": "code",
   "execution_count": 80,
   "metadata": {
    "collapsed": false
   },
   "outputs": [],
   "source": [
    "import pandas as pd\n",
    "import numpy as np"
   ]
  },
  {
   "cell_type": "code",
   "execution_count": 82,
   "metadata": {
    "collapsed": false
   },
   "outputs": [],
   "source": [
    "def productivity(age, qol, debug=True):\n",
    "    '''Calculates an individual's productivity, as the proportion of full working time,\n",
    "    given their age and QoL'''\n",
    "    \n",
    "    prod_model = pd.read_csv(\"paid_prod_model.csv\", header=None, index_col=0, names=[\"value\"])\n",
    "    # TODO - check all values read in and are floats\n",
    "    \n",
    "    MCS = (prod_model.loc[\"MCS_age_div_10\"] * (age/10)) \\\n",
    "        + (prod_model.loc[\"MCS_EQ5D\"] * qol) \\\n",
    "        + prod_model.loc[\"MCS_const\"]\n",
    "\n",
    "    PCS = (prod_model.loc[\"PCS_age_div_10\"] * (age/10)) \\\n",
    "        + (prod_model.loc[\"PCS_EQ5D\"] * qol) \\\n",
    "        + prod_model.loc[\"PCS_const\"]\n",
    "        \n",
    "    prod_sum = ((prod_model.loc[\"prod_age_div_10\"] * (age/10)) \n",
    "                + (prod_model.loc[\"prod_age_div_10_sq\"] * ((age/10)**2)) \n",
    "                + (prod_model.loc[\"prod_MCS_div_10\"] * (MCS/10)) \n",
    "                + (prod_model.loc[\"prod_MCS_div_10_sq\"] * ((MCS/10)**2)) \n",
    "                + (prod_model.loc[\"prod_PCS_div_10\"] * (PCS/10)) \n",
    "                + (prod_model.loc[\"prod_PCS_div_10_sq\"] * ((PCS/10)**2)) \n",
    "                + prod_model.loc[\"prod_const\"])\n",
    "    \n",
    "   \n",
    "    return np.exp(prod_sum)/(1+np.exp(prod_sum))"
   ]
  },
  {
   "cell_type": "code",
   "execution_count": 83,
   "metadata": {
    "collapsed": false
   },
   "outputs": [
    {
     "data": {
      "text/plain": [
       "value    0.703047\n",
       "dtype: float64"
      ]
     },
     "execution_count": 83,
     "metadata": {},
     "output_type": "execute_result"
    }
   ],
   "source": [
    "productivity(51, 1)"
   ]
  },
  {
   "cell_type": "code",
   "execution_count": null,
   "metadata": {
    "collapsed": true
   },
   "outputs": [],
   "source": [
    "def paid_prod(age, gender, qol):\n",
    "    '''Calculates paid production in £pcm, given individual's age, gender and QoL\n",
    "    '''\n",
    "    \n",
    "    # First read in the on-costs estimate (everything else is calculated in called functions)\n",
    "    \n",
    "    try:\n",
    "        with open(\"on_costs.csv\", \"r\") as f:\n",
    "            on_costs = f.read()\n",
    "    except:\n",
    "        print(\"Could not find on_costs.csv\")\n",
    "        return\n",
    "      \n",
    "    return productivity(age, qol) * wage(age, gender) * (1 + on_costs)"
   ]
  }
 ],
 "metadata": {
  "kernelspec": {
   "display_name": "Python 3",
   "language": "python",
   "name": "python3"
  },
  "language_info": {
   "codemirror_mode": {
    "name": "ipython",
    "version": 3
   },
   "file_extension": ".py",
   "mimetype": "text/x-python",
   "name": "python",
   "nbconvert_exporter": "python",
   "pygments_lexer": "ipython3",
   "version": "3.6.0"
  }
 },
 "nbformat": 4,
 "nbformat_minor": 2
}
